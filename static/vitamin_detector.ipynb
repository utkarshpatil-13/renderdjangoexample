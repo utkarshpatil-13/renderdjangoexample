{
  "nbformat": 4,
  "nbformat_minor": 0,
  "metadata": {
    "colab": {
      "provenance": []
    },
    "kernelspec": {
      "name": "python3",
      "display_name": "Python 3"
    },
    "language_info": {
      "name": "python"
    }
  },
  "cells": [
    {
      "cell_type": "code",
      "source": [
        "import numpy as np\n",
        "from sklearn.ensemble import RandomForestClassifier\n",
        "from sklearn.metrics import classification_report\n",
        "from sklearn.model_selection import train_test_split\n"
      ],
      "metadata": {
        "id": "s69UWyR9ghtv"
      },
      "execution_count": 1,
      "outputs": []
    },
    {
      "cell_type": "code",
      "source": [
        "\n",
        "# We have manually created a small dataset demonstrating the effect of age, weight, etc on the vitamin levels of the patients, this dataset will be replaced by attributes given in diagonsis by Registered practitioners.\n",
        "# Features: [Age, Weight, BMI, Exercise]\n",
        "X = np.array([\n",
        "    [25, 150, 18, 1],   # Sample without deficiency\n",
        "    [45, 160, 22, 0],   # Sample with Vitamin D deficiency\n",
        "    [35, 170, 24, 1],   # Sample with Vitamin B12 deficiency\n",
        "    [50, 180, 27, 1],   # Sample with Vitamin C deficiency\n",
        "])\n",
        "\n",
        "# Labels: 0 - No deficiency, 1 - Vitamin D deficiency, 2 - Vitamin B12 deficiency, 3 - Vitamin C deficiency\n",
        "y = np.array([0, 1, 2, 3])\n"
      ],
      "metadata": {
        "id": "UIWjP3bsyyfb"
      },
      "execution_count": 2,
      "outputs": []
    },
    {
      "cell_type": "code",
      "source": [
        "\n",
        "# Split data into training and testing sets\n",
        "X_train, X_test, y_train, y_test = train_test_split(X, y, test_size=0.2, random_state=42)\n",
        "\n",
        "# Initialize and train a Random Forest Classifier\n",
        "model = RandomForestClassifier(n_estimators=100, random_state=42)\n",
        "model.fit(X_train, y_train)\n",
        "\n",
        "# Make predictions on the testing set\n",
        "predictions = model.predict(X_test)\n",
        "\n",
        "# Evaluate the model\n",
        "print(\"Classification Report:\")\n",
        "print(classification_report(y_test, predictions))\n"
      ],
      "metadata": {
        "colab": {
          "base_uri": "https://localhost:8080/"
        },
        "id": "oj4hRazUy2pG",
        "outputId": "5f46e07c-b037-4ccb-9166-2870ea9e6153"
      },
      "execution_count": 3,
      "outputs": [
        {
          "output_type": "stream",
          "name": "stdout",
          "text": [
            "Classification Report:\n",
            "              precision    recall  f1-score   support\n",
            "\n",
            "           1       0.00      0.00      0.00       1.0\n",
            "           2       0.00      0.00      0.00       0.0\n",
            "\n",
            "    accuracy                           0.00       1.0\n",
            "   macro avg       0.00      0.00      0.00       1.0\n",
            "weighted avg       0.00      0.00      0.00       1.0\n",
            "\n"
          ]
        },
        {
          "output_type": "stream",
          "name": "stderr",
          "text": [
            "/usr/local/lib/python3.10/dist-packages/sklearn/metrics/_classification.py:1344: UndefinedMetricWarning: Precision and F-score are ill-defined and being set to 0.0 in labels with no predicted samples. Use `zero_division` parameter to control this behavior.\n",
            "  _warn_prf(average, modifier, msg_start, len(result))\n",
            "/usr/local/lib/python3.10/dist-packages/sklearn/metrics/_classification.py:1344: UndefinedMetricWarning: Recall and F-score are ill-defined and being set to 0.0 in labels with no true samples. Use `zero_division` parameter to control this behavior.\n",
            "  _warn_prf(average, modifier, msg_start, len(result))\n",
            "/usr/local/lib/python3.10/dist-packages/sklearn/metrics/_classification.py:1344: UndefinedMetricWarning: Precision and F-score are ill-defined and being set to 0.0 in labels with no predicted samples. Use `zero_division` parameter to control this behavior.\n",
            "  _warn_prf(average, modifier, msg_start, len(result))\n",
            "/usr/local/lib/python3.10/dist-packages/sklearn/metrics/_classification.py:1344: UndefinedMetricWarning: Recall and F-score are ill-defined and being set to 0.0 in labels with no true samples. Use `zero_division` parameter to control this behavior.\n",
            "  _warn_prf(average, modifier, msg_start, len(result))\n",
            "/usr/local/lib/python3.10/dist-packages/sklearn/metrics/_classification.py:1344: UndefinedMetricWarning: Precision and F-score are ill-defined and being set to 0.0 in labels with no predicted samples. Use `zero_division` parameter to control this behavior.\n",
            "  _warn_prf(average, modifier, msg_start, len(result))\n",
            "/usr/local/lib/python3.10/dist-packages/sklearn/metrics/_classification.py:1344: UndefinedMetricWarning: Recall and F-score are ill-defined and being set to 0.0 in labels with no true samples. Use `zero_division` parameter to control this behavior.\n",
            "  _warn_prf(average, modifier, msg_start, len(result))\n"
          ]
        }
      ]
    },
    {
      "cell_type": "code",
      "source": [
        "\n",
        "# Now, let's define functions to provide dietary and lifestyle recommendations based on the classification\n",
        "\n",
        "def no_deficiency_recommendations():\n",
        "    print(\"No deficiency detected. Continue with a balanced diet and healthy lifestyle.\")\n",
        "\n",
        "def vitamin_d_recommendations():\n",
        "    print(\"Vitamin D Deficiency Recommendations:\")\n",
        "    print(\"- Spend more time in sunlight, especially in the morning.\")\n",
        "    print(\"- Increase intake of vitamin D-rich foods like fatty fish, eggs, and fortified dairy products.\")\n",
        "    print(\"- Consider taking vitamin D supplements as per healthcare provider's advice.\")\n",
        "\n",
        "def vitamin_b12_recommendations():\n",
        "    print(\"Vitamin B12 Deficiency Recommendations:\")\n",
        "    print(\"- Consume more vitamin B12-rich foods like meat, fish, dairy products, and fortified cereals.\")\n",
        "    print(\"- Consider taking vitamin B12 supplements as per healthcare provider's advice.\")\n",
        "    print(\"- Ensure adequate intake of folate and iron-rich foods for better absorption of vitamin B12.\")\n",
        "\n",
        "def vitamin_c_recommendations():\n",
        "    print(\"Vitamin C Deficiency Recommendations:\")\n",
        "    print(\"- Increase intake of vitamin C-rich foods like citrus fruits, strawberries, and bell peppers.\")\n",
        "    print(\"- Consume a variety of fruits and vegetables to ensure adequate vitamin C intake.\")\n",
        "    print(\"- Avoid overcooking food to preserve vitamin C content.\")\n",
        "\n",
        "\n",
        "# Get recommendations based on the predicted deficiency\n",
        "def get_recommendations(prediction):\n",
        "    if prediction == 0:\n",
        "        no_deficiency_recommendations()\n",
        "    elif prediction == 1:\n",
        "        vitamin_d_recommendations()\n",
        "    elif prediction == 2:\n",
        "        vitamin_b12_recommendations()\n",
        "    else:\n",
        "        vitamin_c_recommendations()\n"
      ],
      "metadata": {
        "id": "Bxr-G2KOy7z1"
      },
      "execution_count": 4,
      "outputs": []
    },
    {
      "cell_type": "code",
      "source": [
        "\n",
        "# Example new patient's medical history for testing (representing Vitamin D deficiency)\n",
        "new_patient = np.array([[45, 160, 22, 0]])  # [Age, Weight, BMI, Exercise]\n",
        "\n",
        "# Predict the deficiency for the new patient\n",
        "prediction_new_patient = model.predict(new_patient.reshape(1, -1))\n",
        "\n",
        "# Print recommendations based on the predicted deficiency\n",
        "get_recommendations(prediction_new_patient[0])"
      ],
      "metadata": {
        "colab": {
          "base_uri": "https://localhost:8080/"
        },
        "id": "-2Qx3KCHzOaK",
        "outputId": "865820c1-5676-46fd-ef4e-afa24230ebe1"
      },
      "execution_count": 5,
      "outputs": [
        {
          "output_type": "stream",
          "name": "stdout",
          "text": [
            "Vitamin B12 Deficiency Recommendations:\n",
            "- Consume more vitamin B12-rich foods like meat, fish, dairy products, and fortified cereals.\n",
            "- Consider taking vitamin B12 supplements as per healthcare provider's advice.\n",
            "- Ensure adequate intake of folate and iron-rich foods for better absorption of vitamin B12.\n"
          ]
        }
      ]
    },
    {
      "cell_type": "code",
      "source": [
        "import pickle\n",
        "pickle.dump(model,open('vitamin_detector','wb'))"
      ],
      "metadata": {
        "id": "skDJ0OmGnhLj"
      },
      "execution_count": 6,
      "outputs": []
    },
    {
      "cell_type": "code",
      "source": [
        "model_loaded = pickle.load(open('vitamin_detector','rb'))\n",
        "print(model_loaded.predict([[45, 160, 22, 0]]))"
      ],
      "metadata": {
        "colab": {
          "base_uri": "https://localhost:8080/"
        },
        "id": "6IlvjLZlnKoV",
        "outputId": "7a5efe29-88b1-40fa-d49a-7f5899e09c2a"
      },
      "execution_count": 7,
      "outputs": [
        {
          "output_type": "stream",
          "name": "stdout",
          "text": [
            "[2]\n"
          ]
        }
      ]
    }
  ]
}