{
  "nbformat": 4,
  "nbformat_minor": 0,
  "metadata": {
    "colab": {
      "provenance": []
    },
    "kernelspec": {
      "name": "python3",
      "display_name": "Python 3"
    },
    "language_info": {
      "name": "python"
    }
  },
  "cells": [
    {
      "cell_type": "code",
      "execution_count": null,
      "metadata": {
        "colab": {
          "base_uri": "https://localhost:8080/"
        },
        "id": "cIhtqxYQElxy",
        "outputId": "b6c5045e-4248-4c18-ede4-717732456b78"
      },
      "outputs": [
        {
          "output_type": "stream",
          "name": "stderr",
          "text": [
            "[nltk_data] Downloading package punkt to /root/nltk_data...\n",
            "[nltk_data]   Unzipping tokenizers/punkt.zip.\n",
            "[nltk_data] Downloading package stopwords to /root/nltk_data...\n",
            "[nltk_data]   Unzipping corpora/stopwords.zip.\n"
          ]
        },
        {
          "output_type": "execute_result",
          "data": {
            "text/plain": [
              "True"
            ]
          },
          "metadata": {},
          "execution_count": 1
        }
      ],
      "source": [
        "import nltk\n",
        "nltk.download('punkt')\n",
        "nltk.download('stopwords')"
      ]
    },
    {
      "cell_type": "code",
      "source": [
        "DOCUMENT = \"\"\"\n",
        "Mr. Smith, a 58-year-old male, has been under our care for the past six months following the diagnosis of stage III colorectal cancer. Throughout his treatment journey, Mr. Smith has exhibited remarkable resilience and determination in combating this formidable disease. Upon initial presentation, Mr. Smith presented with a constellation of symptoms indicative of advanced colorectal malignancy, including rectal bleeding, abdominal pain, and unintended weight loss. Diagnostic workup, including colonoscopy and imaging studies, confirmed the presence of a large, ulcerated mass in the sigmoid colon with regional lymph node involvement.\n",
        "\n",
        "In collaboration with our multidisciplinary team, Mr. Smith underwent a comprehensive treatment regimen tailored to his individualized needs. This encompassed a combination of neoadjuvant chemoradiotherapy followed by surgical resection of the primary tumor and adjuvant chemotherapy. Despite the inherent challenges associated with aggressive therapeutic interventions, Mr. Smith demonstrated commendable tolerance to treatment and minimal adverse effects, attesting to his remarkable physical resilience and unwavering commitment to his health.\n",
        "\n",
        "Postoperatively, Mr. Smith's recovery has been characterized by steady progress and gradual restoration of functional independence. Regular follow-up assessments have revealed favorable surgical outcomes with no evidence of disease recurrence on imaging studies. Moreover, Mr. Smith has exhibited notable improvements in his quality of life, with resolution of preoperative symptoms and a return to activities of daily living.\n",
        "\n",
        "However, it is imperative to acknowledge the psychosocial impact of cancer diagnosis and treatment on Mr. Smith's well-being. Despite his outward stoicism, Mr. Smith has expressed underlying concerns regarding the long-term implications of his diagnosis, including fear of disease recurrence and uncertainty about the future. As such, ongoing psychological support and counseling services have been instrumental in addressing Mr. Smith's emotional needs and fostering resilience in the face of adversity.\n",
        "\n",
        "Moving forward, our management approach will focus on vigilant surveillance for disease recurrence, optimization of supportive care measures, and promotion of healthy lifestyle behaviors to mitigate the risk of cancer-related complications. Moreover, ongoing collaboration with our oncology colleagues will ensure timely adaptation of treatment strategies based on evolving clinical parameters and emerging therapeutic modalities. In conclusion, Mr. Smith's journey exemplifies the triumph of the human spirit over adversity in the face of a formidable disease. Through his unwavering resolve, proactive engagement in treatment, and steadfast adherence to medical advice, Mr. Smith serves as a beacon of hope and inspiration to others facing similar challenges. As healthcare providers, we remain committed to supporting Mr. Smith in his continued pursuit of optimal health and well-being, guided by principles of compassion, empathy, and excellence in patient-centered care.\n",
        "\"\"\""
      ],
      "metadata": {
        "id": "zAAjaUYoEnxu"
      },
      "execution_count": null,
      "outputs": []
    },
    {
      "cell_type": "code",
      "source": [
        "import re\n",
        "\n",
        "DOCUMENT = re.sub(r'\\n|\\r', ' ', DOCUMENT)\n",
        "DOCUMENT = re.sub(r' +', ' ', DOCUMENT)\n",
        "DOCUMENT = DOCUMENT.strip()"
      ],
      "metadata": {
        "id": "lyu9lOXxFhOk"
      },
      "execution_count": null,
      "outputs": []
    },
    {
      "cell_type": "code",
      "source": [
        "sentences = nltk.sent_tokenize(DOCUMENT)\n",
        "len(sentences)"
      ],
      "metadata": {
        "colab": {
          "base_uri": "https://localhost:8080/"
        },
        "id": "qzrmdKXkFqTn",
        "outputId": "e31ea7e4-84d4-4eae-8442-a9347034874a"
      },
      "execution_count": null,
      "outputs": [
        {
          "output_type": "execute_result",
          "data": {
            "text/plain": [
              "18"
            ]
          },
          "metadata": {},
          "execution_count": 7
        }
      ]
    },
    {
      "cell_type": "code",
      "source": [
        "import numpy as np\n",
        "\n",
        "stop_words = nltk.corpus.stopwords.words('english')\n",
        "\n",
        "def normalize_document(doc):\n",
        "    # lower case and remove special characters\\whitespaces\n",
        "    doc = re.sub(r'[^a-zA-Z\\s]', '', doc, re.I|re.A)\n",
        "    doc = doc.lower()\n",
        "    doc = doc.strip()\n",
        "    # tokenize document\n",
        "    tokens = nltk.word_tokenize(doc)\n",
        "    # filter stopwords out of document\n",
        "    filtered_tokens = [token for token in tokens if token not in stop_words]\n",
        "    # re-create document from filtered tokens\n",
        "    doc = ' '.join(filtered_tokens)\n",
        "    return doc\n",
        "\n",
        "normalize_corpus = np.vectorize(normalize_document)\n",
        "\n",
        "norm_sentences = normalize_corpus(sentences)\n",
        "norm_sentences[:3]"
      ],
      "metadata": {
        "id": "FX-brV19FtYv",
        "outputId": "5ce104d8-fcc1-488f-f551-3c015ddc576c",
        "colab": {
          "base_uri": "https://localhost:8080/"
        }
      },
      "execution_count": null,
      "outputs": [
        {
          "output_type": "execute_result",
          "data": {
            "text/plain": [
              "array(['mr smith yearold male care past six months following diagnosis stage iii colorectal cancer',\n",
              "       'throughout treatment journey mr smith exhibited remarkable resilience determination combating formidable disease',\n",
              "       'upon initial presentation mr smith presented constellation symptoms indicative advanced colorectal malignancy including rectal bleeding abdominal pain unintended weight loss'],\n",
              "      dtype='<U223')"
            ]
          },
          "metadata": {},
          "execution_count": 8
        }
      ]
    }
  ]
}